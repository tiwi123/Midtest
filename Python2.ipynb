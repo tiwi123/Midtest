{
  "nbformat": 4,
  "nbformat_minor": 0,
  "metadata": {
    "colab": {
      "provenance": []
    },
    "kernelspec": {
      "name": "python3",
      "display_name": "Python 3"
    },
    "language_info": {
      "name": "python"
    }
  },
  "cells": [
    {
      "cell_type": "markdown",
      "source": [
        "NOMOR 2"
      ],
      "metadata": {
        "id": "LUq3JT4oQjC2"
      }
    },
    {
      "cell_type": "code",
      "source": [
        "def decode(first_str, second_str):\n",
        "    # Periksa panjang kedua string\n",
        "    if len(first_str) != len(second_str):\n",
        "        return \"nisaa\"\n",
        "\n",
        "    decoded_chars = [''] * len(first_str)\n",
        "\n",
        "    for i in range(len(second_str)):\n",
        "        index = int(second_str[i]) - 1\n",
        "        if index >= 0 and index < len(first_str) and decoded_chars[index] == '':\n",
        "            decoded_chars[index] = first_str[i]\n",
        "        else:\n",
        "            return \"nisaa\"\n",
        "\n",
        "    # menggabungkan\n",
        "    decoded_str = ''.join(decoded_chars)\n",
        "\n",
        "    return decoded_str\n",
        "\n",
        "# implementasi\n",
        "first_str = 'nisaan'\n",
        "second_str = '46753'\n",
        "decoded_text = decode(first_str, second_str)\n",
        "\n",
        "# print\n",
        "for i in range(len(second_str)):\n",
        "    print(f\"Letter '{first_str[i]}' should be in the {i + 1}th position\")\n",
        "\n",
        "print(f\"Output: '{decoded_text}'\")"
      ],
      "metadata": {
        "colab": {
          "base_uri": "https://localhost:8080/"
        },
        "id": "Uq-0YjvamTCj",
        "outputId": "9829e1fe-4bfc-426a-8219-932cf17fbe4c"
      },
      "execution_count": 38,
      "outputs": [
        {
          "output_type": "stream",
          "name": "stdout",
          "text": [
            "Letter 'n' should be in the 1th position\n",
            "Letter 'i' should be in the 2th position\n",
            "Letter 's' should be in the 3th position\n",
            "Letter 'a' should be in the 4th position\n",
            "Letter 'a' should be in the 5th position\n",
            "Output: 'nisaa'\n"
          ]
        }
      ]
    }
  ]
}