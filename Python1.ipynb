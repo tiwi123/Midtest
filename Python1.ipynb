{
  "nbformat": 4,
  "nbformat_minor": 0,
  "metadata": {
    "colab": {
      "provenance": []
    },
    "kernelspec": {
      "name": "python3",
      "display_name": "Python 3"
    },
    "language_info": {
      "name": "python"
    }
  },
  "cells": [
    {
      "cell_type": "markdown",
      "source": [
        "ANNISA PRATIWI\n"
      ],
      "metadata": {
        "id": "oqwBhsviNQBt"
      }
    },
    {
      "cell_type": "markdown",
      "source": [
        "NOMOR 1 PYTHON"
      ],
      "metadata": {
        "id": "c_VN87i7NawD"
      }
    },
    {
      "cell_type": "code",
      "source": [
        "def add_str(input_str):\n",
        "    digits = input_str.split(',')\n",
        "    number = int(''.join(digits))\n",
        "    number += 1\n",
        "    result_digits = list(str(number))\n",
        "\n",
        "    if result_digits[0] == '0':\n",
        "        result_digits.pop(0)\n",
        "    result_str = ','.join(result_digits)\n",
        "\n",
        "    return result_str\n",
        "\n",
        "#implementasi\n",
        "input_str = \"145\"\n",
        "output_str = add_str(input_str)\n",
        "print(output_str)\n"
      ],
      "metadata": {
        "colab": {
          "base_uri": "https://localhost:8080/"
        },
        "id": "5X6OJfA3if6W",
        "outputId": "5a0bf366-8bb0-468a-d4e2-25a0f2db887e"
      },
      "execution_count": 40,
      "outputs": [
        {
          "output_type": "stream",
          "name": "stdout",
          "text": [
            "1,4,6\n"
          ]
        }
      ]
    }
  ]
}